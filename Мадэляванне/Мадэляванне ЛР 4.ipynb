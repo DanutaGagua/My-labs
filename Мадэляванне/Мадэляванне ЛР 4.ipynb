{
 "cells": [
  {
   "cell_type": "markdown",
   "metadata": {},
   "source": [
    "## Уваходныя параметры"
   ]
  },
  {
   "cell_type": "code",
   "execution_count": 1,
   "metadata": {},
   "outputs": [
    {
     "name": "stdout",
     "output_type": "stream",
     "text": [
      "pi =  0.951229424500714\n",
      "ro =  0.9677594633172665\n"
     ]
    }
   ],
   "source": [
    "import math\n",
    "\n",
    "t = 20 # хвілін у экспаненцыяльным размеркаванні\n",
    "lyambda = 2 # цягніка ў гадзіну\n",
    "nyu = 60 / t\n",
    "pi = math.e ** (-1 / t)\n",
    "ro = 1 - lyambda / 60 * math.e ** (-lyambda / 60)\n",
    "\n",
    "print(\"pi = \", pi)\n",
    "print(\"ro = \", ro)"
   ]
  },
  {
   "cell_type": "code",
   "execution_count": 2,
   "metadata": {},
   "outputs": [],
   "source": [
    "def get_generic(a, R0, m):\n",
    "    R = []\n",
    "    generic = []\n",
    "    for i in range(5000000):\n",
    "        if len(R) == 0:\n",
    "            R.append(a * R0 % m)\n",
    "        else:\n",
    "            R.append(a * R[i-1] % m)\n",
    "        generic.append(R[i] / m)\n",
    "        \n",
    "    return generic\n",
    "\n",
    "def update_dict(states, s1, s2, s3):\n",
    "    state = str(s1) + str(s2) + str(s3)\n",
    "    \n",
    "    if state in states:\n",
    "        states[state] += 1\n",
    "    else:\n",
    "        states[state] = 1\n",
    "\n",
    "pi_0 = get_generic(102191, 131, 203563)\n",
    "ro_0 = get_generic(102191, 132, 203563)"
   ]
  },
  {
   "cell_type": "markdown",
   "metadata": {},
   "source": [
    "## Імітацыя сістэмы пры 3 цягніках на гары"
   ]
  },
  {
   "cell_type": "code",
   "execution_count": 3,
   "metadata": {},
   "outputs": [
    {
     "data": {
      "text/plain": [
       "{'000': 338057,\n",
       " '001': 232923,\n",
       " '011': 151939,\n",
       " '021': 98904,\n",
       " '121': 63009,\n",
       " '221': 39618,\n",
       " '321': 25056,\n",
       " '421': 16371,\n",
       " '521': 10156,\n",
       " '621': 7028,\n",
       " '721': 4458,\n",
       " '821': 3181,\n",
       " '921': 2132,\n",
       " '1021': 2254,\n",
       " '1121': 1733,\n",
       " '1221': 1173,\n",
       " '1321': 565,\n",
       " '1421': 438,\n",
       " '1521': 247,\n",
       " '1621': 368,\n",
       " '1721': 191,\n",
       " '1821': 110,\n",
       " '1921': 82,\n",
       " '2021': 7}"
      ]
     },
     "execution_count": 3,
     "metadata": {},
     "output_type": "execute_result"
    }
   ],
   "source": [
    "s1 = 0\n",
    "s2 = 0\n",
    "s3 = 0\n",
    "\n",
    "tact_number = 1000000\n",
    "\n",
    "states = {}\n",
    "\n",
    "block_number = 0\n",
    "lose_number = 0\n",
    "made_number = 0\n",
    "task_number = 0\n",
    "\n",
    "kol_task_in_queue_1 = []\n",
    "kol_task_in_queue_2 = []\n",
    "kol_task_in_system = []\n",
    "queue_times_1 = []\n",
    "queue_times_2 = []\n",
    "task_times = []\n",
    "\n",
    "kanal = 0\n",
    "\n",
    "index_1 = 0\n",
    "index_2 = 0\n",
    "\n",
    "task = []\n",
    "\n",
    "task_3 = 0\n",
    "t_3 = 0\n",
    "task_2 = 0\n",
    "t_2 = 0\n",
    "task_1 = 0\n",
    "t_1 = 0\n",
    "\n",
    "task_i = 0\n",
    "\n",
    "mulct_1 = 0\n",
    "\n",
    "for i in range(tact_number):\n",
    "    update_dict(states, s1, s2, s3)\n",
    "    \n",
    "    #print (s1, s2, s3, pi_0[index_2], ro_0[index_1])\n",
    "    \n",
    "    kol_task_in_system.append(s1 + s2 + s3)\n",
    "    kol_task_in_queue_1.append(s1)\n",
    "    kol_task_in_queue_2.append(s2)\n",
    "    \n",
    "    if (i+1) % 60 == 0:\n",
    "        if s1 > 0:\n",
    "            mulct_1 += 1\n",
    "    \n",
    "    if s3 == 1:\n",
    "        kanal += 1\n",
    "        task[task_3][2] += 1\n",
    "        \n",
    "        if pi_0[index_2] > pi:\n",
    "            s3 = 0\n",
    "            made_number += 1\n",
    "            \n",
    "            task_times.append(task[task_3][2]) \n",
    "            \n",
    "            task_3 += 1\n",
    "            \n",
    "        index_2 += 1          \n",
    "    \n",
    "    if s2 > 0:\n",
    "        for j in range(task_2, task_2+s2):\n",
    "            task[j][1] += 1\n",
    "            task[j][2] += 1\n",
    "        \n",
    "        if s3 == 0:\n",
    "            s3 = 1\n",
    "            s2 -= 1\n",
    "            \n",
    "            queue_times_2.append(task[task_2][1])\n",
    "            \n",
    "            task_2 += 1\n",
    "        \n",
    "    if s1 > 0:        \n",
    "        for j in range(task_1, task_1+s1):\n",
    "            task[j][0] += 1\n",
    "            task[j][2] += 1\n",
    "        \n",
    "        if s2 < 2:\n",
    "            s2 += 1\n",
    "            s1 -= 1\n",
    "            \n",
    "            queue_times_1.append(task[task_1][0])\n",
    "            \n",
    "            task_1 += 1\n",
    "        \n",
    "    if ro_0[index_1] > ro: \n",
    "        task.append([0, 0, 0, i]) \n",
    "        \n",
    "        if s3 == 0:\n",
    "            s3 = 1\n",
    "            task_1 = task_i + 1            \n",
    "            task_2 = task_i + 1\n",
    "            queue_times_1.append(task[task_i][0])\n",
    "            queue_times_2.append(task[task_i][1])\n",
    "        elif s2 < 2:\n",
    "            s2 += 1\n",
    "            task_1 = task_i + 1\n",
    "            queue_times_1.append(task[task_i][0])\n",
    "        else:\n",
    "            s1 += 1\n",
    "                           \n",
    "        task_i += 1\n",
    "        \n",
    "        task_number += 1\n",
    "        \n",
    "    index_1 += 1\n",
    "            \n",
    "states"
   ]
  },
  {
   "cell_type": "markdown",
   "metadata": {},
   "source": [
    "### Атрыманыя верагоднасці"
   ]
  },
  {
   "cell_type": "code",
   "execution_count": 4,
   "metadata": {},
   "outputs": [
    {
     "name": "stdout",
     "output_type": "stream",
     "text": [
      "000 0.338057\n",
      "001 0.232923\n",
      "011 0.151939\n",
      "021 0.098904\n",
      "121 0.063009\n",
      "221 0.039618\n",
      "321 0.025056\n",
      "421 0.016371\n",
      "521 0.010156\n",
      "621 0.007028\n",
      "721 0.004458\n",
      "821 0.003181\n",
      "921 0.002132\n",
      "1021 0.002254\n",
      "1121 0.001733\n",
      "1221 0.001173\n",
      "1321 0.000565\n",
      "1421 0.000438\n",
      "1521 0.000247\n",
      "1621 0.000368\n",
      "1721 0.000191\n",
      "1821 0.00011\n",
      "1921 8.2e-05\n",
      "2021 7e-06\n"
     ]
    }
   ],
   "source": [
    "for key, value in states.items():\n",
    "    print (key, value / tact_number)"
   ]
  },
  {
   "cell_type": "markdown",
   "metadata": {},
   "source": [
    "### Параметры сістэмы"
   ]
  },
  {
   "cell_type": "code",
   "execution_count": 5,
   "metadata": {},
   "outputs": [
    {
     "name": "stdout",
     "output_type": "stream",
     "text": [
      "P_отк*    0.0\n",
      "P_бл*     0.0\n",
      "A*        0.032232\n",
      "Q*        0.9999069334574221\n",
      "L_оч_1*   0.537361\n",
      "L_оч_2*   0.706101\n",
      "L_c*      1.905405\n",
      "W_оч_1*   16.67011012874205\n",
      "W_оч_2*   21.90590388732045\n",
      "W_c*      59.11460660213452\n",
      "Ккан*     0.661943\n"
     ]
    }
   ],
   "source": [
    "print(\"P_отк*   \", lose_number / task_number)\n",
    "print(\"P_бл*    \", block_number / tact_number)\n",
    "print(\"A*       \", made_number / tact_number)\n",
    "print(\"Q*       \", made_number / task_number)\n",
    "print(\"L_оч_1*  \", sum(kol_task_in_queue_1) / len(kol_task_in_queue_1))\n",
    "print(\"L_оч_2*  \", sum(kol_task_in_queue_2) / len(kol_task_in_queue_2))\n",
    "print(\"L_c*     \", sum(kol_task_in_system) / len(kol_task_in_system))\n",
    "print(\"W_оч_1*  \", sum(queue_times_1) / len(queue_times_1))\n",
    "print(\"W_оч_2*  \", sum(queue_times_2) / len(queue_times_2))\n",
    "print(\"W_c*     \", sum(task_times) / len(task_times))\n",
    "print(\"Ккан*    \", kanal / tact_number)"
   ]
  },
  {
   "cell_type": "markdown",
   "metadata": {},
   "source": [
    "### Падлік сумарнай колькасці штрафу"
   ]
  },
  {
   "cell_type": "code",
   "execution_count": 6,
   "metadata": {},
   "outputs": [
    {
     "data": {
      "text/plain": [
       "212101000"
      ]
     },
     "execution_count": 6,
     "metadata": {},
     "output_type": "execute_result"
    }
   ],
   "source": [
    "kol = 0\n",
    "\n",
    "for i in range(len(queue_times_1)):\n",
    "    kol += (queue_times_1[i] % 60)\n",
    "    \n",
    "kol*1000"
   ]
  },
  {
   "cell_type": "markdown",
   "metadata": {},
   "source": [
    "## Імітацыя сістэмы пры 4 цягніках на гары"
   ]
  },
  {
   "cell_type": "code",
   "execution_count": 7,
   "metadata": {},
   "outputs": [
    {
     "data": {
      "text/plain": [
       "{'000': 338057,\n",
       " '001': 232923,\n",
       " '011': 151939,\n",
       " '021': 98904,\n",
       " '031': 63009,\n",
       " '131': 39618,\n",
       " '231': 25056,\n",
       " '331': 16371,\n",
       " '431': 10156,\n",
       " '531': 7028,\n",
       " '631': 4458,\n",
       " '731': 3181,\n",
       " '831': 2132,\n",
       " '931': 2254,\n",
       " '1031': 1733,\n",
       " '1131': 1173,\n",
       " '1231': 565,\n",
       " '1331': 438,\n",
       " '1431': 247,\n",
       " '1531': 368,\n",
       " '1631': 191,\n",
       " '1731': 110,\n",
       " '1831': 82,\n",
       " '1931': 7}"
      ]
     },
     "execution_count": 7,
     "metadata": {},
     "output_type": "execute_result"
    }
   ],
   "source": [
    "s1 = 0\n",
    "s2 = 0\n",
    "s3 = 0\n",
    "\n",
    "tact_number = 1000000\n",
    "\n",
    "states = {}\n",
    "\n",
    "block_number = 0\n",
    "lose_number = 0\n",
    "made_number = 0\n",
    "task_number = 0\n",
    "\n",
    "kol_task_in_queue_1 = []\n",
    "kol_task_in_queue_2 = []\n",
    "kol_task_in_system = []\n",
    "queue_times_1 = []\n",
    "queue_times_2 = []\n",
    "task_times = []\n",
    "\n",
    "kanal = 0\n",
    "\n",
    "index_1 = 0\n",
    "index_2 = 0\n",
    "\n",
    "task_4 = []\n",
    "\n",
    "task_3 = 0\n",
    "t_3 = 0\n",
    "task_2 = 0\n",
    "t_2 = 0\n",
    "task_1 = 0\n",
    "t_1 = 0\n",
    "\n",
    "task_i = 0\n",
    "\n",
    "mulct_2 = 0\n",
    "\n",
    "for i in range(tact_number):\n",
    "    update_dict(states, s1, s2, s3)\n",
    "    \n",
    "    #print (s1, s2, s3, pi_0[index_2], ro_0[index_1])\n",
    "    \n",
    "    kol_task_in_system.append(s1 + s2 + s3)\n",
    "    kol_task_in_queue_1.append(s1)\n",
    "    kol_task_in_queue_2.append(s2)\n",
    "    \n",
    "    if (i+1) % 60 == 0:\n",
    "        if s1 > 0:\n",
    "            mulct_2 += 1\n",
    "    \n",
    "    if s3 == 1:\n",
    "        kanal += 1\n",
    "        task_4[task_3][2] += 1\n",
    "        \n",
    "        if pi_0[index_2] > pi:\n",
    "            s3 = 0\n",
    "            made_number += 1\n",
    "            \n",
    "            task_times.append(task_4[task_3][2]) \n",
    "            \n",
    "            task_3 += 1\n",
    "            \n",
    "        index_2 += 1          \n",
    "    \n",
    "    if s2 > 0:\n",
    "        for j in range(task_2, task_2+s2):\n",
    "            task_4[j][1] += 1\n",
    "            task_4[j][2] += 1\n",
    "        \n",
    "        if s3 == 0:\n",
    "            s3 = 1\n",
    "            s2 -= 1\n",
    "            \n",
    "            queue_times_2.append(task_4[task_2][1])\n",
    "            \n",
    "            task_2 += 1\n",
    "        \n",
    "    if s1 > 0:        \n",
    "        for j in range(task_1, task_1+s1):\n",
    "            task_4[j][0] += 1\n",
    "            task_4[j][2] += 1\n",
    "        \n",
    "        if s2 < 3:\n",
    "            s2 += 1\n",
    "            s1 -= 1\n",
    "            \n",
    "            queue_times_1.append(task_4[task_1][0])\n",
    "            \n",
    "            task_1 += 1\n",
    "        \n",
    "    if ro_0[index_1] > ro: \n",
    "        task_4.append([0, 0, 0, i]) \n",
    "        \n",
    "        if s3 == 0:\n",
    "            s3 = 1\n",
    "            task_1 = task_i + 1            \n",
    "            task_2 = task_i + 1\n",
    "            queue_times_1.append(task_4[task_i][0])\n",
    "            queue_times_2.append(task_4[task_i][1])\n",
    "        elif s2 < 3:\n",
    "            s2 += 1\n",
    "            task_1 = task_i + 1  \n",
    "            queue_times_1.append(task_4[task_i][0])\n",
    "        else:\n",
    "            s1 += 1\n",
    "                           \n",
    "        task_i += 1\n",
    "        \n",
    "        task_number += 1\n",
    "        \n",
    "    index_1 += 1\n",
    "            \n",
    "states"
   ]
  },
  {
   "cell_type": "markdown",
   "metadata": {},
   "source": [
    "### Атрыманыя верагоднасці"
   ]
  },
  {
   "cell_type": "code",
   "execution_count": 8,
   "metadata": {},
   "outputs": [
    {
     "name": "stdout",
     "output_type": "stream",
     "text": [
      "000 0.338057\n",
      "001 0.232923\n",
      "011 0.151939\n",
      "021 0.098904\n",
      "031 0.063009\n",
      "131 0.039618\n",
      "231 0.025056\n",
      "331 0.016371\n",
      "431 0.010156\n",
      "531 0.007028\n",
      "631 0.004458\n",
      "731 0.003181\n",
      "831 0.002132\n",
      "931 0.002254\n",
      "1031 0.001733\n",
      "1131 0.001173\n",
      "1231 0.000565\n",
      "1331 0.000438\n",
      "1431 0.000247\n",
      "1531 0.000368\n",
      "1631 0.000191\n",
      "1731 0.00011\n",
      "1831 8.2e-05\n",
      "1931 7e-06\n"
     ]
    }
   ],
   "source": [
    "for key, value in states.items():\n",
    "    print (key, value / tact_number)"
   ]
  },
  {
   "cell_type": "markdown",
   "metadata": {},
   "source": [
    "### Параметры сістэмы"
   ]
  },
  {
   "cell_type": "code",
   "execution_count": 9,
   "metadata": {},
   "outputs": [
    {
     "name": "stdout",
     "output_type": "stream",
     "text": [
      "P_отк*    0.0\n",
      "P_бл*     0.0\n",
      "A*        0.032232 1.9339199999999999\n",
      "Q*        0.9999069334574221\n",
      "L_оч_1*   0.359184\n",
      "L_оч_2*   0.884278\n",
      "L_оч*     1.243462\n",
      "L_c*      1.905405\n",
      "W_оч_1*   11.142671009771988\n",
      "W_оч_2*   27.4336859740018\n",
      "W_оч*     38.57635698377379\n",
      "W_c*      59.11460660213452\n",
      "Ккан*     0.661943\n"
     ]
    }
   ],
   "source": [
    "print(\"P_отк*   \", lose_number / task_number)\n",
    "print(\"P_бл*    \", block_number / tact_number)\n",
    "print(\"A*       \", made_number / tact_number, made_number / tact_number * 60)\n",
    "print(\"Q*       \", made_number / task_number)\n",
    "print(\"L_оч_1*  \", sum(kol_task_in_queue_1) / len(kol_task_in_queue_1))\n",
    "print(\"L_оч_2*  \", sum(kol_task_in_queue_2) / len(kol_task_in_queue_2))\n",
    "print(\"L_оч*    \", sum(kol_task_in_queue_2) / len(kol_task_in_queue_2) + sum(kol_task_in_queue_1) / len(kol_task_in_queue_1))\n",
    "print(\"L_c*     \", sum(kol_task_in_system) / len(kol_task_in_system))\n",
    "print(\"W_оч_1*  \", sum(queue_times_1) / len(queue_times_1))\n",
    "print(\"W_оч_2*  \", sum(queue_times_2) / len(queue_times_2))\n",
    "print(\"W_оч*    \", sum(queue_times_2) / len(queue_times_2) + sum(queue_times_1) / len(queue_times_1))\n",
    "print(\"W_c*     \", sum(task_times) / len(task_times))\n",
    "print(\"Ккан*    \", kanal / tact_number)"
   ]
  },
  {
   "cell_type": "markdown",
   "metadata": {},
   "source": [
    "### Падлік сумарнай колькасці штрафу"
   ]
  },
  {
   "cell_type": "code",
   "execution_count": 10,
   "metadata": {},
   "outputs": [
    {
     "data": {
      "text/plain": [
       "138384000"
      ]
     },
     "execution_count": 10,
     "metadata": {},
     "output_type": "execute_result"
    }
   ],
   "source": [
    "kol = 0\n",
    "\n",
    "for i in range(len(queue_times_1)):\n",
    "    kol += (queue_times_1[i] % 60)\n",
    "    \n",
    "kol*1000"
   ]
  },
  {
   "cell_type": "markdown",
   "metadata": {},
   "source": [
    "## Падлік часу, калі акупіцца прыбаўка адного месца на гару"
   ]
  },
  {
   "cell_type": "code",
   "execution_count": 11,
   "metadata": {},
   "outputs": [
    {
     "name": "stdout",
     "output_type": "stream",
     "text": [
      "14686\n",
      "10.198611111111111\n"
     ]
    }
   ],
   "source": [
    "kol_1 = 0\n",
    "kol_2 = 0\n",
    "\n",
    "for i in range(len(task)):\n",
    "    kol_1 += (task[i][0] % 60)\n",
    "    kol_2 += (task_4[i][0] % 60)\n",
    "    \n",
    "    if (kol_1 - kol_2) * 1000 >= 1000000:\n",
    "        print(task[i][3] + task_4[i][0])\n",
    "        print((task[i][3] + task_4[i][0]) / 60 / 24)\n",
    "        break"
   ]
  },
  {
   "cell_type": "code",
   "execution_count": 12,
   "metadata": {},
   "outputs": [
    {
     "data": {
      "text/plain": [
       "233.84986090610278"
      ]
     },
     "execution_count": 12,
     "metadata": {},
     "output_type": "execute_result"
    }
   ],
   "source": [
    "1000000 /(0.537361-0.359184)/1000/24"
   ]
  }
 ],
 "metadata": {
  "kernelspec": {
   "display_name": "Python 3",
   "language": "python",
   "name": "python3"
  },
  "language_info": {
   "codemirror_mode": {
    "name": "ipython",
    "version": 3
   },
   "file_extension": ".py",
   "mimetype": "text/x-python",
   "name": "python",
   "nbconvert_exporter": "python",
   "pygments_lexer": "ipython3",
   "version": "3.7.4"
  }
 },
 "nbformat": 4,
 "nbformat_minor": 2
}
