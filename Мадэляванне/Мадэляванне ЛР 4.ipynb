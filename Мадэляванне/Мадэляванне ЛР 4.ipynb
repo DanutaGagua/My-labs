{
 "cells": [
  {
   "cell_type": "markdown",
   "metadata": {},
   "source": [
    "## Дапаможныя функцыі для працы"
   ]
  },
  {
   "cell_type": "code",
   "execution_count": 1,
   "metadata": {},
   "outputs": [],
   "source": [
    "import math\n",
    "import numpy\n",
    "\n",
    "def get_generic(a, R0, m):\n",
    "    R = []\n",
    "    generic = []\n",
    "    for i in range(5000000):\n",
    "        if len(R) == 0:\n",
    "            R.append(a * R0 % m)\n",
    "        else:\n",
    "            R.append(a * R[i-1] % m)\n",
    "        generic.append(R[i] / m)\n",
    "        \n",
    "    return generic\n",
    "\n",
    "def update_dict(states, s1, s2, s3):\n",
    "    state = str(s1) + str(s2) + str(s3)\n",
    "    \n",
    "    if state in states:\n",
    "        states[state] += 1\n",
    "    else:\n",
    "        states[state] = 1\n",
    "        \n",
    "def print_calculated_parametrs():\n",
    "    print(\"P_отк*   \", lose_number / task_number)\n",
    "    print(\"P_бл*    \", block_number / tact_number)\n",
    "    print(\"A*       \", made_number / tact_number * 60)\n",
    "    print(\"Q*       \", made_number / task_number)\n",
    "    print(\"L_оч_1*  \", numpy.average(kol_tasks['queue_1']))\n",
    "    print(\"L_оч_2*  \", numpy.average(kol_tasks['queue_2']))\n",
    "    print(\"L_оч*    \", numpy.average(kol_tasks['queue']))\n",
    "    print(\"L_c*     \", numpy.average(kol_tasks['system']))\n",
    "    print(\"W_оч_1*  \", numpy.average(time_tasks['queue_1']))\n",
    "    print(\"W_оч_2*  \", numpy.average(time_tasks['queue_2']))\n",
    "    print(\"W_оч*    \", numpy.average(time_tasks['queue_2']))\n",
    "    print(\"W_c*     \", numpy.average(time_tasks['system']))\n",
    "    print(\"Ккан*    \", kanal / tact_number) "
   ]
  },
  {
   "cell_type": "markdown",
   "metadata": {},
   "source": [
    "## Уваходныя параметры"
   ]
  },
  {
   "cell_type": "code",
   "execution_count": 62,
   "metadata": {},
   "outputs": [
    {
     "name": "stdout",
     "output_type": "stream",
     "text": [
      "pi =  0.950212931632136\n",
      "ro =  0.9677594633172665\n"
     ]
    }
   ],
   "source": [
    "t = 20 # хвілін у экспаненцыяльным размеркаванні\n",
    "lyambda = 2 # цягніка ў гадзіну ў найпрасцейшым размеркаванні\n",
    "nyu = 60 / t\n",
    "pi = 1 - math.e ** (-nyu)\n",
    "ro = 1 - lyambda / (60 * math.e ** (lyambda / 60))\n",
    "\n",
    "print(\"pi = \", pi)\n",
    "print(\"ro = \", ro)"
   ]
  },
  {
   "cell_type": "markdown",
   "metadata": {},
   "source": [
    "## Генерацыя размеркаванняў верагоднасцяў"
   ]
  },
  {
   "cell_type": "code",
   "execution_count": 37,
   "metadata": {},
   "outputs": [],
   "source": [
    "pi_0 = get_generic(102191, 131, 203563)\n",
    "    \n",
    "ro_0 = get_generic(102191, 133, 203563)"
   ]
  },
  {
   "cell_type": "markdown",
   "metadata": {},
   "source": [
    "## Імітацыя працы сістэмы"
   ]
  },
  {
   "cell_type": "code",
   "execution_count": 40,
   "metadata": {},
   "outputs": [],
   "source": [
    "from random import random\n",
    "\n",
    "def work_machine(max_trains_on_hill):\n",
    "    global tact_number, states, block_number, lose_number\n",
    "    global made_number, task_number, kol_tasks, time_tasks, kanal, queue1_time\n",
    "    \n",
    "    s1 = 0        # чэрга на знешніх шляхах\n",
    "    s2 = 0        # чэрга на горцы\n",
    "    s3 = 0        # абслугоўваюцца\n",
    "\n",
    "    tact_number = 1500000\n",
    "\n",
    "    states = {}\n",
    "\n",
    "    block_number, lose_number = 0, 0\n",
    "    made_number, task_number = 0, 0\n",
    "    \n",
    "    kol_tasks = {key: list([]) for key in [\"queue_1\", \"queue_2\", \"queue\", \"system\"]}\n",
    "    time_tasks = {key: list([]) for key in [\"queue_1\", \"queue_2\", \"system\"]}\n",
    "\n",
    "    kanal = 0\n",
    "\n",
    "    index_1 = 0      # for ro,\n",
    "    index_2 = 0      # for pi\n",
    "\n",
    "    task = []\n",
    "\n",
    "    task_3, task_2, task_1 = 0, 0, 0\n",
    "    task_i = 0\n",
    "    \n",
    "    queue1_time = []\n",
    "    \n",
    "    for i in range(tact_number):\n",
    "        update_dict(states, s1, s2, s3)\n",
    "        \n",
    "        kol_tasks['system'].append(s1 + s2 + s3)\n",
    "        kol_tasks['queue_1'].append(s1)\n",
    "        kol_tasks['queue_2'].append(s2)\n",
    "        kol_tasks['queue'].append(s1 + s2)\n",
    "        \n",
    "        if s3 == 1:\n",
    "            kanal += 1\n",
    "            task[task_3][2] += 1\n",
    "\n",
    "            if pi_0[index_2] > pi:\n",
    "                s3 = 0\n",
    "                made_number += 1\n",
    "\n",
    "                time_tasks['system'].append(task[task_3][2]) \n",
    "\n",
    "                task_3 += 1\n",
    "\n",
    "            index_2 += 1          \n",
    "    \n",
    "        if s2 > 0:\n",
    "            for j in range(task_2, task_2+s2):\n",
    "                task[j][1] += 1\n",
    "                task[j][2] += 1\n",
    "\n",
    "            if s3 == 0:\n",
    "                s3 = 1\n",
    "                s2 -= 1\n",
    "\n",
    "                time_tasks['queue_2'].append(task[task_2][1])\n",
    "\n",
    "                task_2 += 1\n",
    "        \n",
    "        if s1 > 0:        \n",
    "            for j in range(task_1, task_1+s1):\n",
    "                task[j][0] += 1\n",
    "                task[j][2] += 1\n",
    "                \n",
    "            queue1_time.append(s1)\n",
    "            \n",
    "            if s2 < max_trains_on_hill:\n",
    "                s2 += 1\n",
    "                s1 -= 1\n",
    "\n",
    "                time_tasks['queue_1'].append(task[task_1][0])\n",
    "\n",
    "                task_1 += 1\n",
    "        else:\n",
    "            queue1_time.append(0)\n",
    "        \n",
    "        if ro_0[index_1] >= ro: \n",
    "            task.append([0, 0, 0, i]) \n",
    "\n",
    "            if s3 == 0:\n",
    "                s3 = 1\n",
    "                task_1 = task_i + 1            \n",
    "                task_2 = task_i + 1\n",
    "                time_tasks['queue_1'].append(task[task_i][0])\n",
    "                time_tasks['queue_2'].append(task[task_i][1])\n",
    "            elif s2 < max_trains_on_hill:\n",
    "                s2 += 1\n",
    "                task_1 = task_i + 1\n",
    "                time_tasks['queue_1'].append(task[task_i][0])\n",
    "            else:\n",
    "                s1 += 1\n",
    "\n",
    "            task_i += 1\n",
    "\n",
    "            task_number += 1\n",
    "\n",
    "        index_1 += 1  "
   ]
  },
  {
   "cell_type": "markdown",
   "metadata": {},
   "source": [
    "## Імітацыя сістэмы пры 3 цягніках на гары"
   ]
  },
  {
   "cell_type": "code",
   "execution_count": 63,
   "metadata": {},
   "outputs": [
    {
     "data": {
      "text/plain": [
       "{'000': 528604,\n",
       " '001': 357910,\n",
       " '011': 224728,\n",
       " '021': 140750,\n",
       " '121': 88923,\n",
       " '221': 56357,\n",
       " '321': 36901,\n",
       " '421': 22540,\n",
       " '521': 15277,\n",
       " '621': 9204,\n",
       " '721': 6540,\n",
       " '821': 4039,\n",
       " '921': 2833,\n",
       " '1021': 1726,\n",
       " '1121': 1090,\n",
       " '1221': 646,\n",
       " '1321': 780,\n",
       " '1421': 369,\n",
       " '1521': 127,\n",
       " '1621': 140,\n",
       " '1721': 203,\n",
       " '1821': 179,\n",
       " '1921': 91,\n",
       " '2021': 43}"
      ]
     },
     "execution_count": 63,
     "metadata": {},
     "output_type": "execute_result"
    }
   ],
   "source": [
    "work_machine(max_trains_on_hill=2)\n",
    "\n",
    "states"
   ]
  },
  {
   "cell_type": "markdown",
   "metadata": {},
   "source": [
    "### Атрыманыя верагоднасці"
   ]
  },
  {
   "cell_type": "code",
   "execution_count": 64,
   "metadata": {},
   "outputs": [
    {
     "name": "stdout",
     "output_type": "stream",
     "text": [
      "000 \t 0.35240266666666664\n",
      "001 \t 0.23860666666666666\n",
      "011 \t 0.14981866666666666\n",
      "021 \t 0.09383333333333334\n",
      "121 \t 0.059282\n",
      "221 \t 0.03757133333333333\n",
      "321 \t 0.024600666666666667\n",
      "421 \t 0.015026666666666667\n",
      "521 \t 0.010184666666666667\n",
      "621 \t 0.006136\n",
      "721 \t 0.00436\n",
      "821 \t 0.0026926666666666666\n",
      "921 \t 0.0018886666666666667\n",
      "1021 \t 0.0011506666666666666\n",
      "1121 \t 0.0007266666666666667\n",
      "1221 \t 0.00043066666666666665\n",
      "1321 \t 0.00052\n",
      "1421 \t 0.000246\n",
      "1521 \t 8.466666666666666e-05\n",
      "1621 \t 9.333333333333333e-05\n",
      "1721 \t 0.00013533333333333333\n",
      "1821 \t 0.00011933333333333334\n",
      "1921 \t 6.0666666666666666e-05\n",
      "2021 \t 2.8666666666666668e-05\n"
     ]
    }
   ],
   "source": [
    "for key, value in states.items():\n",
    "    print (key, '\\t', value / tact_number)"
   ]
  },
  {
   "cell_type": "markdown",
   "metadata": {},
   "source": [
    "### Параметры сістэмы"
   ]
  },
  {
   "cell_type": "code",
   "execution_count": 65,
   "metadata": {},
   "outputs": [
    {
     "name": "stdout",
     "output_type": "stream",
     "text": [
      "P_отк*    0.0\n",
      "P_бл*     0.0\n",
      "A*        1.9332799999999999\n",
      "Q*        1.0\n",
      "L_оч_1*   0.468942\n",
      "L_оч_2*   0.6681626666666667\n",
      "L_оч*     1.1371046666666667\n",
      "L_c*      1.784702\n",
      "W_оч_1*   14.553773897210958\n",
      "W_оч_2*   20.73665480427046\n",
      "W_оч*     20.73665480427046\n",
      "W_c*      55.38883141603906\n",
      "Ккан*     0.6475973333333334\n"
     ]
    }
   ],
   "source": [
    "print_calculated_parametrs()"
   ]
  },
  {
   "cell_type": "markdown",
   "metadata": {},
   "source": [
    "### Падлік сумарнай колькасці штрафу"
   ]
  },
  {
   "cell_type": "code",
   "execution_count": 66,
   "metadata": {},
   "outputs": [
    {
     "data": {
      "text/plain": [
       "11723000"
      ]
     },
     "execution_count": 66,
     "metadata": {},
     "output_type": "execute_result"
    }
   ],
   "source": [
    "kol_1 = sum(queue1_time)\n",
    "q1 = queue1_time.copy()\n",
    "    \n",
    "kol_1 // 60 * 1000"
   ]
  },
  {
   "cell_type": "markdown",
   "metadata": {},
   "source": [
    "## Імітацыя сістэмы пры 4 цягніках на гары"
   ]
  },
  {
   "cell_type": "code",
   "execution_count": 67,
   "metadata": {},
   "outputs": [
    {
     "data": {
      "text/plain": [
       "{'000': 528604,\n",
       " '001': 357910,\n",
       " '011': 224728,\n",
       " '021': 140750,\n",
       " '031': 88923,\n",
       " '131': 56357,\n",
       " '231': 36901,\n",
       " '331': 22540,\n",
       " '431': 15277,\n",
       " '531': 9204,\n",
       " '631': 6540,\n",
       " '731': 4039,\n",
       " '831': 2833,\n",
       " '931': 1726,\n",
       " '1031': 1090,\n",
       " '1131': 646,\n",
       " '1231': 780,\n",
       " '1331': 369,\n",
       " '1431': 127,\n",
       " '1531': 140,\n",
       " '1631': 203,\n",
       " '1731': 179,\n",
       " '1831': 91,\n",
       " '1931': 43}"
      ]
     },
     "execution_count": 67,
     "metadata": {},
     "output_type": "execute_result"
    }
   ],
   "source": [
    "work_machine(max_trains_on_hill=3)\n",
    "\n",
    "states"
   ]
  },
  {
   "cell_type": "markdown",
   "metadata": {},
   "source": [
    "### Атрыманыя верагоднасці"
   ]
  },
  {
   "cell_type": "code",
   "execution_count": 68,
   "metadata": {},
   "outputs": [
    {
     "name": "stdout",
     "output_type": "stream",
     "text": [
      "000 \t 0.35240266666666664\n",
      "001 \t 0.23860666666666666\n",
      "011 \t 0.14981866666666666\n",
      "021 \t 0.09383333333333334\n",
      "031 \t 0.059282\n",
      "131 \t 0.03757133333333333\n",
      "231 \t 0.024600666666666667\n",
      "331 \t 0.015026666666666667\n",
      "431 \t 0.010184666666666667\n",
      "531 \t 0.006136\n",
      "631 \t 0.00436\n",
      "731 \t 0.0026926666666666666\n",
      "831 \t 0.0018886666666666667\n",
      "931 \t 0.0011506666666666666\n",
      "1031 \t 0.0007266666666666667\n",
      "1131 \t 0.00043066666666666665\n",
      "1231 \t 0.00052\n",
      "1331 \t 0.000246\n",
      "1431 \t 8.466666666666666e-05\n",
      "1531 \t 9.333333333333333e-05\n",
      "1631 \t 0.00013533333333333333\n",
      "1731 \t 0.00011933333333333334\n",
      "1831 \t 6.0666666666666666e-05\n",
      "1931 \t 2.8666666666666668e-05\n"
     ]
    }
   ],
   "source": [
    "for key, value in states.items():\n",
    "    print (key, '\\t', value / tact_number)"
   ]
  },
  {
   "cell_type": "markdown",
   "metadata": {},
   "source": [
    "### Параметры сістэмы"
   ]
  },
  {
   "cell_type": "code",
   "execution_count": 69,
   "metadata": {},
   "outputs": [
    {
     "name": "stdout",
     "output_type": "stream",
     "text": [
      "P_отк*    0.0\n",
      "P_бл*     0.0\n",
      "A*        1.9332799999999999\n",
      "Q*        1.0\n",
      "L_оч_1*   0.30360333333333334\n",
      "L_оч_2*   0.8335013333333333\n",
      "L_оч*     1.1371046666666667\n",
      "L_c*      1.784702\n",
      "W_оч_1*   9.422432342961185\n",
      "W_оч_2*   25.867996358520234\n",
      "W_оч*     25.867996358520234\n",
      "W_c*      55.38883141603906\n",
      "Ккан*     0.6475973333333334\n"
     ]
    }
   ],
   "source": [
    "print_calculated_parametrs()"
   ]
  },
  {
   "cell_type": "markdown",
   "metadata": {},
   "source": [
    "### Падлік сумарнай колькасці штрафу"
   ]
  },
  {
   "cell_type": "code",
   "execution_count": 70,
   "metadata": {},
   "outputs": [
    {
     "data": {
      "text/plain": [
       "7590000"
      ]
     },
     "execution_count": 70,
     "metadata": {},
     "output_type": "execute_result"
    }
   ],
   "source": [
    "kol_2 = sum(queue1_time)\n",
    "q2 = queue1_time.copy()\n",
    "    \n",
    "kol_2 // 60 * 1000"
   ]
  },
  {
   "cell_type": "markdown",
   "metadata": {},
   "source": [
    "## Падлік часу, калі акупіцца прыбаўка адного месца на гару"
   ]
  },
  {
   "cell_type": "code",
   "execution_count": 73,
   "metadata": {},
   "outputs": [
    {
     "name": "stdout",
     "output_type": "stream",
     "text": [
      "26723\n",
      "252 дзён\n"
     ]
    }
   ],
   "source": [
    "sum1 = 0\n",
    "sum2 = 0\n",
    "moment = 0\n",
    "\n",
    "for i in range(len(q1)):\n",
    "    sum1 += q1[i]\n",
    "    sum2 += q2[i]\n",
    "    if sum1 > sum2 == 60000:\n",
    "        print(sum1 - sum2)\n",
    "#     print(q1[i], q2[i], sum1, sum2, sum1 - sum2, (sum1 - sum2) / 60)\n",
    "    \n",
    "    if sum1 - sum2  >= 60000:\n",
    "        moment = i\n",
    "        break\n",
    "        \n",
    "print(i // 60 // 24, 'дзён')"
   ]
  }
 ],
 "metadata": {
  "kernelspec": {
   "display_name": "Python 3",
   "language": "python",
   "name": "python3"
  },
  "language_info": {
   "codemirror_mode": {
    "name": "ipython",
    "version": 3
   },
   "file_extension": ".py",
   "mimetype": "text/x-python",
   "name": "python",
   "nbconvert_exporter": "python",
   "pygments_lexer": "ipython3",
   "version": "3.7.4"
  }
 },
 "nbformat": 4,
 "nbformat_minor": 2
}
