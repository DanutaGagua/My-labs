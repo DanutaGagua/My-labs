{
 "cells": [
  {
   "cell_type": "markdown",
   "metadata": {},
   "source": [
    "## Уваходныя параметры"
   ]
  },
  {
   "cell_type": "code",
   "execution_count": 1,
   "metadata": {},
   "outputs": [
    {
     "name": "stdout",
     "output_type": "stream",
     "text": [
      "0.55 0.5\n"
     ]
    }
   ],
   "source": [
    "pi1, pi2 = input().split()\n",
    "pi1 = float(pi1)\n",
    "pi2 = float(pi2)"
   ]
  },
  {
   "cell_type": "code",
   "execution_count": 19,
   "metadata": {},
   "outputs": [],
   "source": [
    "def get_generic(a, R0, m):\n",
    "    R = []\n",
    "    generic = []\n",
    "    for i in range(5000000):\n",
    "        if len(R) == 0:\n",
    "            R.append(a * R0 % m)\n",
    "        else:\n",
    "            R.append(a * R[i-1] % m)\n",
    "        generic.append(R[i] / m)\n",
    "        \n",
    "    return generic\n",
    "\n",
    "def update_dict(states, s1, s2, s3, s4):\n",
    "    state = str(s1) + str(s2) + str(s3) + str(s4)\n",
    "    \n",
    "    if state in states:\n",
    "        states[state] += 1\n",
    "    else:\n",
    "        states[state] = 1\n",
    "\n",
    "p1 = get_generic(102191, 131, 203563)\n",
    "p2 = get_generic(102191, 132, 203563)"
   ]
  },
  {
   "cell_type": "code",
   "execution_count": 20,
   "metadata": {},
   "outputs": [],
   "source": [
    "period = 2\n",
    "queue = 1\n",
    "s1 = 2\n",
    "s2 = 0\n",
    "s3 = 0\n",
    "s4 = 0\n",
    "\n",
    "tact_number = 500000\n",
    "\n",
    "states = {'2000': 0,\n",
    "          '1000': 0,\n",
    "          '2010': 0,\n",
    "          '1010': 0,\n",
    "          '1001': 0,\n",
    "          '2011': 0,\n",
    "          '1011': 0,\n",
    "          '2110': 0,\n",
    "          '1110': 0,\n",
    "          '2111': 0,\n",
    "          '1111': 0,\n",
    "          '0111': 0,\n",
    "          '0110': 0}\n",
    "\n",
    "block_number = 0\n",
    "lose_number = 0\n",
    "made_number = 0\n",
    "task_number = 0\n",
    "\n",
    "kol_task_in_queue = []\n",
    "kol_task_in_system = []\n",
    "queue_times = []\n",
    "task_times = []\n",
    "\n",
    "kanal_1 = 0\n",
    "kanal_2 = 0"
   ]
  },
  {
   "cell_type": "markdown",
   "metadata": {},
   "source": [
    "## Імітацыя сістэмы"
   ]
  },
  {
   "cell_type": "code",
   "execution_count": 24,
   "metadata": {},
   "outputs": [
    {
     "data": {
      "text/plain": [
       "{'2000': 1,\n",
       " '1000': 1,\n",
       " '2010': 37253,\n",
       " '1010': 56307,\n",
       " '1001': 74774,\n",
       " '2011': 129598,\n",
       " '1011': 148052,\n",
       " '2110': 71358,\n",
       " '1110': 87936,\n",
       " '2111': 177910,\n",
       " '1111': 49050,\n",
       " '0111': 18930,\n",
       " '0110': 148830}"
      ]
     },
     "execution_count": 24,
     "metadata": {},
     "output_type": "execute_result"
    }
   ],
   "source": [
    "index_1 = 0\n",
    "index_2 = 0\n",
    "\n",
    "queue_time = 0\n",
    "task_4 = 0\n",
    "t_4 = 0\n",
    "task_3 = 0\n",
    "t_3 = 0\n",
    "task_2 = 0\n",
    "t_2 = 0\n",
    "\n",
    "task_i = 0\n",
    "\n",
    "for i in range(tact_number):\n",
    "    update_dict(states, s1, s2, s3, s4)\n",
    "    \n",
    "    kol_task_in_system.append(s2 + s3 + s4)\n",
    "    kol_task_in_queue.append(s2)\n",
    "    \n",
    "    if s4 == 1:\n",
    "        kanal_2 += 1\n",
    "        t_4 += 1\n",
    "        \n",
    "        if p2[index_2] > pi2:\n",
    "            s4 = 0\n",
    "            made_number += 1\n",
    "            \n",
    "            task_times.append(t_4) \n",
    "            \n",
    "        index_2 += 1          \n",
    "    \n",
    "    if s3 == 1:\n",
    "        kanal_1 += 1\n",
    "        t_3 += 1\n",
    "        \n",
    "        if p1[index_1] > pi1:\n",
    "            if s4 == 0:\n",
    "                s4 = 1\n",
    "                \n",
    "                task_4 = task_3\n",
    "                t_4 = t_3\n",
    "            else:\n",
    "                lose_number += 1\n",
    "                \n",
    "                task_times.append(t_3)                \n",
    "            s3 = 0\n",
    "        \n",
    "        index_1 += 1 \n",
    "        \n",
    "    if s2 == 1:\n",
    "        queue_time += 1\n",
    "        t_2 += 1\n",
    "        \n",
    "        if s3 == 0:\n",
    "            s2 = 0\n",
    "            s3 = 1\n",
    "            \n",
    "            queue_times.append(queue_time)\n",
    "            queue_time = 0\n",
    "            \n",
    "            task_3 = task_2\n",
    "            t_3 = t_2\n",
    "        \n",
    "    if s1 == 0:\n",
    "        block_number += 1\n",
    "        \n",
    "    if s1 == 2:\n",
    "        s1 = 1\n",
    "    else:\n",
    "        if s3 == 0:\n",
    "            s3 = 1\n",
    "            s1 = 2\n",
    "            \n",
    "            task_i += 1\n",
    "            task_3 = task_i\n",
    "            queue_times.append(0)\n",
    "            t_3 = 0\n",
    "            \n",
    "            task_number += 1\n",
    "        elif s2 == 0:\n",
    "            s2 = 1\n",
    "            s1 = 2\n",
    "            \n",
    "            task_number += 1\n",
    "            \n",
    "            task_i += 1\n",
    "            task_2 = task_i\n",
    "            t_2 = 0\n",
    "        else:\n",
    "            s1 = 0\n",
    "            \n",
    "states"
   ]
  },
  {
   "cell_type": "markdown",
   "metadata": {},
   "source": [
    "### Атрыманыя верагоднасці"
   ]
  },
  {
   "cell_type": "code",
   "execution_count": 25,
   "metadata": {},
   "outputs": [
    {
     "name": "stdout",
     "output_type": "stream",
     "text": [
      "2000 2e-06\n",
      "1000 2e-06\n",
      "2010 0.074506\n",
      "1010 0.112614\n",
      "1001 0.149548\n",
      "2011 0.259196\n",
      "1011 0.296104\n",
      "2110 0.142716\n",
      "1110 0.175872\n",
      "2111 0.35582\n",
      "1111 0.0981\n",
      "0111 0.03786\n",
      "0110 0.29766\n"
     ]
    }
   ],
   "source": [
    "for key, value in states.items():\n",
    "    print (key, value / tact_number)"
   ]
  },
  {
   "cell_type": "markdown",
   "metadata": {},
   "source": [
    "### Параметры сістэмы"
   ]
  },
  {
   "cell_type": "code",
   "execution_count": 31,
   "metadata": {},
   "outputs": [
    {
     "name": "stdout",
     "output_type": "stream",
     "text": [
      "P_отк*    0.28178410074017113\n",
      "P_бл*     0.33552\n",
      "A*        0.597724\n",
      "Q*        0.7182110929539556\n",
      "L_оч*     0.554014\n",
      "L_c*      2.077552\n",
      "W_оч*     1.6675114375150495\n",
      "W_c*      4.992694379959531\n",
      "Ккан_1*   1.850448\n",
      "Ккан_2*   1.196628\n"
     ]
    }
   ],
   "source": [
    "print(\"P_отк*   \", lose_number / task_number)\n",
    "print(\"P_бл*    \", block_number / tact_number)\n",
    "print(\"A*       \", made_number / tact_number)\n",
    "print(\"Q*       \", made_number / task_number)\n",
    "print(\"L_оч*    \", sum(kol_task_in_queue) / len(kol_task_in_queue))\n",
    "print(\"L_c*     \", sum(kol_task_in_system) / len(kol_task_in_system))\n",
    "print(\"W_оч*    \", (sum(kol_task_in_queue) / len(kol_task_in_queue)) / (0.5*(1-block_number / tact_number)))\n",
    "print(\"W_c*     \", sum(task_times) / len(task_times))\n",
    "print(\"Ккан_1*  \", kanal_1 / tact_number)\n",
    "print(\"Ккан_2*  \", kanal_2 / tact_number)"
   ]
  }
 ],
 "metadata": {
  "kernelspec": {
   "display_name": "Python 3",
   "language": "python",
   "name": "python3"
  },
  "language_info": {
   "codemirror_mode": {
    "name": "ipython",
    "version": 3
   },
   "file_extension": ".py",
   "mimetype": "text/x-python",
   "name": "python",
   "nbconvert_exporter": "python",
   "pygments_lexer": "ipython3",
   "version": "3.7.4"
  }
 },
 "nbformat": 4,
 "nbformat_minor": 2
}
