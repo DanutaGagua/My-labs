{
 "cells": [
  {
   "cell_type": "markdown",
   "metadata": {},
   "source": [
    "## Генераванне выпадковай паслядоўнасці"
   ]
  },
  {
   "cell_type": "code",
   "execution_count": 1,
   "metadata": {},
   "outputs": [],
   "source": [
    "import matplotlib.pyplot as plt\n",
    "import math\n",
    "\n",
    "def get_generic(a, R0, m):\n",
    "    R = []\n",
    "    generic = []\n",
    "    for i in range(500000):\n",
    "        if len(R) == 0:\n",
    "            R.append(a * R0 % m)\n",
    "        else:\n",
    "            R.append(a * R[i-1] % m)\n",
    "        generic.append(R[i] / m)\n",
    "        \n",
    "    return generic\n",
    "\n",
    "def get_intervals(X):\n",
    "    intervals = []\n",
    "\n",
    "    values = []\n",
    "    value = min(X)\n",
    "    interval_value = (max(X) - min(X)) / 20\n",
    "    for i in range(20):\n",
    "        value += interval_value\n",
    "        values.append(value)\n",
    "\n",
    "    for i in range(len(X)):\n",
    "        for j in range(20):\n",
    "            if X[i] <= values[j]:\n",
    "                intervals.append(values[j] - interval_value)\n",
    "                break \n",
    "            \n",
    "    return intervals\n",
    "\n",
    "def find_m(X):\n",
    "    m = 0\n",
    "    for i in range(len(X)):\n",
    "        m += X[i]\n",
    "    m /= len(X)\n",
    "    \n",
    "    return m\n",
    "\n",
    "def find_D(X, m):\n",
    "    D = 0\n",
    "    for i in range(len(X)):\n",
    "        D += ((X[i] - m) ** 2)\n",
    "    D /= (len(X) - 1)\n",
    "    \n",
    "    return D\n",
    "\n",
    "def print_m_D_sigma(m, D):\n",
    "    print(\"m* =\", m)\n",
    "    print(\"D* =\", D)\n",
    "    print(\"sigma* =\", D ** 0.5)"
   ]
  },
  {
   "cell_type": "markdown",
   "metadata": {},
   "source": [
    "## Раўнамернае размеркаванне"
   ]
  },
  {
   "cell_type": "markdown",
   "metadata": {},
   "source": [
    "### Уваходныя параметры"
   ]
  },
  {
   "cell_type": "code",
   "execution_count": 35,
   "metadata": {},
   "outputs": [
    {
     "name": "stdout",
     "output_type": "stream",
     "text": [
      "-1 5\n"
     ]
    }
   ],
   "source": [
    "a, b = input().split(\" \")\n",
    "a = int(a)\n",
    "b = int(b)"
   ]
  },
  {
   "cell_type": "markdown",
   "metadata": {},
   "source": [
    "### Фармаванне размеркавання"
   ]
  },
  {
   "cell_type": "code",
   "execution_count": 36,
   "metadata": {},
   "outputs": [],
   "source": [
    "X = []\n",
    "generic = get_generic(50093, 50101, 50111)\n",
    "\n",
    "for i in range(len(generic)):\n",
    "    X.append(a + (b - a) * generic[i])"
   ]
  },
  {
   "cell_type": "markdown",
   "metadata": {},
   "source": [
    "### Гістаграма"
   ]
  },
  {
   "cell_type": "code",
   "execution_count": 37,
   "metadata": {},
   "outputs": [
    {
     "data": {
      "image/png": "[encoded data removed]",
      "text/plain": [
       "<Figure size 432x288 with 1 Axes>"
      ]
     },
     "metadata": {
      "needs_background": "light"
     },
     "output_type": "display_data"
    }
   ],
   "source": [
    "intervals = get_intervals(X)\n",
    "    \n",
    "plt.hist(intervals, bins=20)\n",
    "plt.show()"
   ]
  },
  {
   "cell_type": "markdown",
   "metadata": {},
   "source": [
    "### Ацэнкі матчакання, дысперсіі, СКА"
   ]
  },
  {
   "cell_type": "code",
   "execution_count": 40,
   "metadata": {},
   "outputs": [
    {
     "name": "stdout",
     "output_type": "stream",
     "text": [
      "m* = 1.999926076829461\n",
      "D* = 2.9997257665038415\n",
      "sigma* = 1.7319716413682533\n"
     ]
    }
   ],
   "source": [
    "print_m_D_sigma(find_m(X),\n",
    "                find_D(X, find_m(X)))"
   ]
  },
  {
   "cell_type": "markdown",
   "metadata": {},
   "source": [
    "## Гаўсаўскае размеркаванне"
   ]
  },
  {
   "cell_type": "markdown",
   "metadata": {},
   "source": [
    "### Уваходныя параметры"
   ]
  },
  {
   "cell_type": "code",
   "execution_count": 65,
   "metadata": {},
   "outputs": [
    {
     "name": "stdout",
     "output_type": "stream",
     "text": [
      "-205 7\n"
     ]
    }
   ],
   "source": [
    "m, sigma = input().split(\" \")\n",
    "m = int(m)\n",
    "sigma = int(sigma)"
   ]
  },
  {
   "cell_type": "markdown",
   "metadata": {},
   "source": [
    "### Фармаванне размеркавання"
   ]
  },
  {
   "cell_type": "code",
   "execution_count": 67,
   "metadata": {},
   "outputs": [],
   "source": [
    "X = []\n",
    "generic_1 = get_generic(50093, 50101, 50111)\n",
    "generic_2 = get_generic(61379, 61381, 61403)\n",
    "generic_3 = get_generic(71023, 71039, 71059)\n",
    "generic_4 = get_generic(78857, 78877, 78887)\n",
    "generic_5 = get_generic(58727, 58733, 58741)\n",
    "generic_6 = get_generic(94009, 94033, 94049)\n",
    "\n",
    "for i in range(len(generic)):\n",
    "    X.append(m + sigma * 2**0.5 *\n",
    "             (generic_1[i] + generic_2[i] + generic_3[i] \n",
    "             + generic_4[i] + generic_5[i] + generic_6[i] - 3))"
   ]
  },
  {
   "cell_type": "markdown",
   "metadata": {},
   "source": [
    "### Гістаграма"
   ]
  },
  {
   "cell_type": "code",
   "execution_count": 68,
   "metadata": {},
   "outputs": [
    {
     "data": {
      "image/png": "[encoded data removed]",
      "text/plain": [
       "<Figure size 432x288 with 1 Axes>"
      ]
     },
     "metadata": {
      "needs_background": "light"
     },
     "output_type": "display_data"
    }
   ],
   "source": [
    "intervals = get_intervals(X)\n",
    "    \n",
    "plt.hist(intervals, bins=20)\n",
    "plt.show()"
   ]
  },
  {
   "cell_type": "markdown",
   "metadata": {},
   "source": [
    "### Ацэнкі матчакання, дысперсіі, СКА"
   ]
  },
  {
   "cell_type": "code",
   "execution_count": 69,
   "metadata": {},
   "outputs": [
    {
     "name": "stdout",
     "output_type": "stream",
     "text": [
      "m* = -205.01881512124393\n",
      "D* = 49.14748069232002\n",
      "sigma* = 7.010526420485128\n"
     ]
    }
   ],
   "source": [
    "print_m_D_sigma(find_m(X),\n",
    "                find_D(X, find_m(X)))"
   ]
  },
  {
   "cell_type": "markdown",
   "metadata": {},
   "source": [
    "## Экспаненцыяльнае размеркаванне"
   ]
  },
  {
   "cell_type": "markdown",
   "metadata": {},
   "source": [
    "### Уваходныя параметры"
   ]
  },
  {
   "cell_type": "code",
   "execution_count": 45,
   "metadata": {},
   "outputs": [
    {
     "name": "stdout",
     "output_type": "stream",
     "text": [
      "9\n"
     ]
    }
   ],
   "source": [
    "lyambda = int(input())"
   ]
  },
  {
   "cell_type": "markdown",
   "metadata": {},
   "source": [
    "### Фармаванне размеркавання"
   ]
  },
  {
   "cell_type": "code",
   "execution_count": 46,
   "metadata": {},
   "outputs": [],
   "source": [
    "X = []\n",
    "generic = get_generic(50093, 50101, 50111)\n",
    "\n",
    "for i in range(len(generic)):\n",
    "    X.append((-1)*math.log(generic[i]) / lyambda)"
   ]
  },
  {
   "cell_type": "markdown",
   "metadata": {},
   "source": [
    "### Гістаграма"
   ]
  },
  {
   "cell_type": "code",
   "execution_count": 47,
   "metadata": {},
   "outputs": [
    {
     "data": {
      "image/png": "[encoded data removed]",
      "text/plain": [
       "<Figure size 432x288 with 1 Axes>"
      ]
     },
     "metadata": {
      "needs_background": "light"
     },
     "output_type": "display_data"
    }
   ],
   "source": [
    "intervals = get_intervals(X)\n",
    "    \n",
    "plt.hist(intervals, bins=20)\n",
    "plt.show()"
   ]
  },
  {
   "cell_type": "markdown",
   "metadata": {},
   "source": [
    "### Ацэнкі матчакання, дысперсіі, СКА"
   ]
  },
  {
   "cell_type": "code",
   "execution_count": 49,
   "metadata": {},
   "outputs": [
    {
     "name": "stdout",
     "output_type": "stream",
     "text": [
      "m* = 0.11110289834532953\n",
      "D* = 0.012329689396202569\n",
      "sigma* = 0.11103913452563725\n"
     ]
    }
   ],
   "source": [
    "print_m_D_sigma(find_m(X),\n",
    "                find_D(X, find_m(X)))"
   ]
  },
  {
   "cell_type": "markdown",
   "metadata": {},
   "source": [
    "## Гама-размеркаванне"
   ]
  },
  {
   "cell_type": "markdown",
   "metadata": {},
   "source": [
    "### Уваходныя параметры"
   ]
  },
  {
   "cell_type": "code",
   "execution_count": 50,
   "metadata": {},
   "outputs": [
    {
     "name": "stdout",
     "output_type": "stream",
     "text": [
      "10 4\n"
     ]
    }
   ],
   "source": [
    "myu, lyambda = input().split(\" \")\n",
    "myu = int(myu)\n",
    "lyambda = int(lyambda)"
   ]
  },
  {
   "cell_type": "markdown",
   "metadata": {},
   "source": [
    "### Фармаванне размеркавання"
   ]
  },
  {
   "cell_type": "code",
   "execution_count": 51,
   "metadata": {},
   "outputs": [],
   "source": [
    "X = []\n",
    "\n",
    "for i in range(len(generic) // myu):\n",
    "    mul = 1\n",
    "    for j in range(myu):\n",
    "        mul *= generic[i*myu + j]\n",
    "    X.append((-1)*math.log(mul) / lyambda)"
   ]
  },
  {
   "cell_type": "markdown",
   "metadata": {},
   "source": [
    "### Гістаграма"
   ]
  },
  {
   "cell_type": "code",
   "execution_count": 52,
   "metadata": {},
   "outputs": [
    {
     "data": {
      "image/png": "[encoded data removed]",
      "text/plain": [
       "<Figure size 432x288 with 1 Axes>"
      ]
     },
     "metadata": {
      "needs_background": "light"
     },
     "output_type": "display_data"
    }
   ],
   "source": [
    "intervals = get_intervals(X)\n",
    "    \n",
    "plt.hist(intervals, bins=20)\n",
    "plt.show()"
   ]
  },
  {
   "cell_type": "markdown",
   "metadata": {},
   "source": [
    "### Ацэнкі матчакання, дысперсіі, СКА"
   ]
  },
  {
   "cell_type": "code",
   "execution_count": 53,
   "metadata": {},
   "outputs": [
    {
     "name": "stdout",
     "output_type": "stream",
     "text": [
      "m* = 2.4998152127700326\n",
      "D* = 0.550282712174601\n",
      "sigma* = 0.7418104287313579\n"
     ]
    }
   ],
   "source": [
    "print_m_D_sigma(find_m(X),\n",
    "                find_D(X, find_m(X)))"
   ]
  },
  {
   "cell_type": "markdown",
   "metadata": {},
   "source": [
    "## Трохвугольнае размеркаванне"
   ]
  },
  {
   "cell_type": "markdown",
   "metadata": {},
   "source": [
    "### Уваходныя параметры"
   ]
  },
  {
   "cell_type": "code",
   "execution_count": 54,
   "metadata": {},
   "outputs": [
    {
     "name": "stdout",
     "output_type": "stream",
     "text": [
      "-3 2\n"
     ]
    }
   ],
   "source": [
    "a, b = input().split(\" \")\n",
    "a = int(a)\n",
    "b = int(b)"
   ]
  },
  {
   "cell_type": "markdown",
   "metadata": {},
   "source": [
    "### Фармаванне размеркавання, выкарыстоўваючы максімум  "
   ]
  },
  {
   "cell_type": "code",
   "execution_count": 55,
   "metadata": {},
   "outputs": [],
   "source": [
    "X = []\n",
    "generic_1 = get_generic(50093, 50101, 50111)\n",
    "generic_2 = get_generic(61379, 61381, 61403)\n",
    "\n",
    "for i in range(len(generic)):\n",
    "    X.append(a + (b - a) * max(generic_1[i], generic_2[i]))"
   ]
  },
  {
   "cell_type": "markdown",
   "metadata": {},
   "source": [
    "### Гістаграма"
   ]
  },
  {
   "cell_type": "code",
   "execution_count": 56,
   "metadata": {},
   "outputs": [
    {
     "data": {
      "image/png": "[encoded data removed]",
      "text/plain": [
       "<Figure size 432x288 with 1 Axes>"
      ]
     },
     "metadata": {
      "needs_background": "light"
     },
     "output_type": "display_data"
    }
   ],
   "source": [
    "intervals = get_intervals(X)\n",
    "    \n",
    "plt.hist(intervals, bins=20)\n",
    "plt.show()"
   ]
  },
  {
   "cell_type": "markdown",
   "metadata": {},
   "source": [
    "### Ацэнкі матчакання, дысперсіі, СКА"
   ]
  },
  {
   "cell_type": "code",
   "execution_count": 57,
   "metadata": {},
   "outputs": [
    {
     "name": "stdout",
     "output_type": "stream",
     "text": [
      "m* = 0.3359718486471388\n",
      "D* = 1.3854931212573096\n",
      "sigma* = 1.1770697180954532\n"
     ]
    }
   ],
   "source": [
    "print_m_D_sigma(find_m(X),\n",
    "                find_D(X, find_m(X)))"
   ]
  },
  {
   "cell_type": "markdown",
   "metadata": {},
   "source": [
    "### Фармаванне размеркавання, выкарыстоўваючы мінімум "
   ]
  },
  {
   "cell_type": "code",
   "execution_count": 58,
   "metadata": {},
   "outputs": [],
   "source": [
    "X = []\n",
    "generic_1 = get_generic(50093, 50101, 50111)\n",
    "generic_2 = get_generic(61379, 61381, 61403)\n",
    "\n",
    "for i in range(len(generic)):\n",
    "    X.append(a + (b - a) * min(generic_1[i], generic_2[i]))"
   ]
  },
  {
   "cell_type": "markdown",
   "metadata": {},
   "source": [
    "### Гістаграма"
   ]
  },
  {
   "cell_type": "code",
   "execution_count": 59,
   "metadata": {},
   "outputs": [
    {
     "data": {
      "image/png": "[encoded data removed]",
      "text/plain": [
       "<Figure size 432x288 with 1 Axes>"
      ]
     },
     "metadata": {
      "needs_background": "light"
     },
     "output_type": "display_data"
    }
   ],
   "source": [
    "intervals = get_intervals(X)\n",
    "    \n",
    "plt.hist(intervals, bins=20)\n",
    "plt.show()"
   ]
  },
  {
   "cell_type": "markdown",
   "metadata": {},
   "source": [
    "### Ацэнкі матчакання, дысперсіі, СКА"
   ]
  },
  {
   "cell_type": "code",
   "execution_count": 60,
   "metadata": {},
   "outputs": [
    {
     "name": "stdout",
     "output_type": "stream",
     "text": [
      "m* = -1.3297510843039093\n",
      "D* = 1.3937066616511813\n",
      "sigma* = 1.1805535403577345\n"
     ]
    }
   ],
   "source": [
    "print_m_D_sigma(find_m(X),\n",
    "                find_D(X, find_m(X)))"
   ]
  },
  {
   "cell_type": "markdown",
   "metadata": {},
   "source": [
    "## Размеркаванне Сімпсона"
   ]
  },
  {
   "cell_type": "markdown",
   "metadata": {},
   "source": [
    "### Уваходныя параметры"
   ]
  },
  {
   "cell_type": "code",
   "execution_count": 61,
   "metadata": {},
   "outputs": [
    {
     "name": "stdout",
     "output_type": "stream",
     "text": [
      "-5 6\n"
     ]
    }
   ],
   "source": [
    "a, b = input().split(\" \")\n",
    "a = int(a)\n",
    "b = int(b)"
   ]
  },
  {
   "cell_type": "markdown",
   "metadata": {},
   "source": [
    "### Фармаванне размеркавання"
   ]
  },
  {
   "cell_type": "code",
   "execution_count": 62,
   "metadata": {},
   "outputs": [],
   "source": [
    "X = []\n",
    "generic_1 = get_generic(50093, 50101, 50111)\n",
    "generic_2 = get_generic(61379, 61381, 61403)\n",
    "\n",
    "for i in range(len(generic)):\n",
    "    X.append(a + (b - a) / 2 * (generic_1[i] + generic_2[i]))"
   ]
  },
  {
   "cell_type": "markdown",
   "metadata": {},
   "source": [
    "### Гістаграма"
   ]
  },
  {
   "cell_type": "code",
   "execution_count": 63,
   "metadata": {},
   "outputs": [
    {
     "data": {
      "image/png": "[encoded data removed]",
      "text/plain": [
       "<Figure size 432x288 with 1 Axes>"
      ]
     },
     "metadata": {
      "needs_background": "light"
     },
     "output_type": "display_data"
    }
   ],
   "source": [
    "intervals = get_intervals(X)\n",
    "    \n",
    "plt.hist(intervals, bins=20)\n",
    "plt.show()"
   ]
  },
  {
   "cell_type": "markdown",
   "metadata": {},
   "source": [
    "### Ацэнкі матчакання, дысперсіі, СКА"
   ]
  },
  {
   "cell_type": "code",
   "execution_count": 64,
   "metadata": {},
   "outputs": [
    {
     "name": "stdout",
     "output_type": "stream",
     "text": [
      "m* = 0.5068428407775202\n",
      "D* = 5.04530953345756\n",
      "sigma* = 2.2461766478746856\n"
     ]
    }
   ],
   "source": [
    "print_m_D_sigma(find_m(X),\n",
    "                find_D(X, find_m(X)))"
   ]
  }
 ],
 "metadata": {
  "kernelspec": {
   "display_name": "Python 3",
   "language": "python",
   "name": "python3"
  },
  "language_info": {
   "codemirror_mode": {
    "name": "ipython",
    "version": 3
   },
   "file_extension": ".py",
   "mimetype": "text/x-python",
   "name": "python",
   "nbconvert_exporter": "python",
   "pygments_lexer": "ipython3",
   "version": "3.7.4"
  }
 },
 "nbformat": 4,
 "nbformat_minor": 2
}
