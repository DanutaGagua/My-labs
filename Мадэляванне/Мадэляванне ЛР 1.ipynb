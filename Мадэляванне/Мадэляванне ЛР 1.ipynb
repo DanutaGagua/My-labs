{
 "cells": [
  {
   "cell_type": "markdown",
   "metadata": {},
   "source": [
    "### Уваходныя параметры"
   ]
  },
  {
   "cell_type": "code",
   "execution_count": 20,
   "metadata": {},
   "outputs": [
    {
     "name": "stdout",
     "output_type": "stream",
     "text": [
      "50093 50101 50111\n"
     ]
    }
   ],
   "source": [
    "a, R0, m = input().split(\" \")\n",
    "a = int(a)\n",
    "R0 = int(R0)\n",
    "m = int(m)"
   ]
  },
  {
   "cell_type": "markdown",
   "metadata": {},
   "source": [
    "### Генераванне паслядоўнасці"
   ]
  },
  {
   "cell_type": "code",
   "execution_count": 21,
   "metadata": {},
   "outputs": [],
   "source": [
    "import matplotlib.pyplot as plt\n",
    "import math\n",
    "\n",
    "R = []\n",
    "generic = []\n",
    "for i in range(5000000):\n",
    "    if len(R) == 0:\n",
    "        R.append(a * R0 % m)\n",
    "    else:\n",
    "        R.append(a * R[i-1] % m)\n",
    "    generic.append(R[i] / m)"
   ]
  },
  {
   "cell_type": "markdown",
   "metadata": {},
   "source": [
    "### Гістаграма"
   ]
  },
  {
   "cell_type": "code",
   "execution_count": 22,
   "metadata": {},
   "outputs": [
    {
     "data": {
      "image/png": "[encoded data removed]",
      "text/plain": [
       "<Figure size 432x288 with 1 Axes>"
      ]
     },
     "metadata": {
      "needs_background": "light"
     },
     "output_type": "display_data"
    }
   ],
   "source": [
    "intervals = []\n",
    "\n",
    "values = []\n",
    "value = min(generic)\n",
    "interval_value = (max(generic) - min(generic)) / 20\n",
    "for i in range(20):\n",
    "    value += interval_value\n",
    "    values.append(value)\n",
    "\n",
    "for i in range(len(generic)):\n",
    "    for j in range(20):\n",
    "        if generic[i] <= values[j]:\n",
    "            intervals.append(values[j] - interval_value)\n",
    "            break\n",
    "    \n",
    "plt.hist(intervals, bins=20)\n",
    "plt.show()"
   ]
  },
  {
   "cell_type": "markdown",
   "metadata": {},
   "source": [
    "### Ацэнка матчакання"
   ]
  },
  {
   "cell_type": "code",
   "execution_count": 23,
   "metadata": {},
   "outputs": [
    {
     "name": "stdout",
     "output_type": "stream",
     "text": [
      "m* =  0.500004708451235\n"
     ]
    }
   ],
   "source": [
    "m = 0\n",
    "for i in range(len(generic)):\n",
    "    m += generic[i]\n",
    "m /= len(generic)\n",
    "\n",
    "print(\"m* = \", m)"
   ]
  },
  {
   "cell_type": "markdown",
   "metadata": {},
   "source": [
    "### Ацэнка дысперсіі"
   ]
  },
  {
   "cell_type": "code",
   "execution_count": 24,
   "metadata": {},
   "outputs": [
    {
     "name": "stdout",
     "output_type": "stream",
     "text": [
      "D* =  0.08333107432175435\n"
     ]
    }
   ],
   "source": [
    "D = 0\n",
    "for i in range(len(generic)):\n",
    "    D += ((generic[i] - m) ** 2)\n",
    "D /= (len(generic) - 1)\n",
    "\n",
    "print(\"D* = \", D)"
   ]
  },
  {
   "cell_type": "markdown",
   "metadata": {},
   "source": [
    "### Ацэнка СКА"
   ]
  },
  {
   "cell_type": "code",
   "execution_count": 25,
   "metadata": {},
   "outputs": [
    {
     "name": "stdout",
     "output_type": "stream",
     "text": [
      "sigma* =  0.2886712218454662\n"
     ]
    }
   ],
   "source": [
    "sigma = D ** 0.5\n",
    "\n",
    "print(\"sigma* = \", sigma)"
   ]
  },
  {
   "cell_type": "markdown",
   "metadata": {},
   "source": [
    "### Праверка раўнамернасці размеркавання"
   ]
  },
  {
   "cell_type": "code",
   "execution_count": 26,
   "metadata": {},
   "outputs": [
    {
     "name": "stdout",
     "output_type": "stream",
     "text": [
      "0.7872516 0.7853981633974483\n"
     ]
    }
   ],
   "source": [
    "k = 0\n",
    "for i in range(len(generic) // 2):\n",
    "    if generic[2*i]**2 + generic[2*i+1]**2 < 1:\n",
    "        k += 1\n",
    "print(2*k/len(generic), math.pi / 4)"
   ]
  },
  {
   "cell_type": "markdown",
   "metadata": {},
   "source": [
    "### Знаходжанне перыяду паслядоўнасці "
   ]
  },
  {
   "cell_type": "code",
   "execution_count": 27,
   "metadata": {},
   "outputs": [
    {
     "name": "stdout",
     "output_type": "stream",
     "text": [
      "period = 50110\n"
     ]
    }
   ],
   "source": [
    "i_1 = len(generic)\n",
    "i_2 = len(generic)\n",
    "for i in range(len(generic)-1):\n",
    "    if generic[i] == generic[len(generic)-1]:\n",
    "        if i_1 == len(generic):\n",
    "            i_1 = i\n",
    "        else:\n",
    "            i_2 = i\n",
    "            break\n",
    "            \n",
    "print(\"period = \", end = \"\")\n",
    "print(i_2 - i_1)"
   ]
  },
  {
   "cell_type": "markdown",
   "metadata": {},
   "source": [
    "### Знаходжанне ўчастку аперыядычнасці"
   ]
  },
  {
   "cell_type": "code",
   "execution_count": 28,
   "metadata": {},
   "outputs": [
    {
     "name": "stdout",
     "output_type": "stream",
     "text": [
      "plot of aperiodicity = 50110\n"
     ]
    }
   ],
   "source": [
    "length = len(generic)\n",
    "\n",
    "for i in range(len(generic)):\n",
    "    for j in range(i+1, len(generic)):\n",
    "        if generic[i] == generic[j]:\n",
    "            length = j\n",
    "            break\n",
    "    if length != len(generic):\n",
    "        break\n",
    "            \n",
    "print(\"plot of aperiodicity = \", end = \"\")\n",
    "print(length)"
   ]
  }
 ],
 "metadata": {
  "kernelspec": {
   "display_name": "Python 3",
   "language": "python",
   "name": "python3"
  },
  "language_info": {
   "codemirror_mode": {
    "name": "ipython",
    "version": 3
   },
   "file_extension": ".py",
   "mimetype": "text/x-python",
   "name": "python",
   "nbconvert_exporter": "python",
   "pygments_lexer": "ipython3",
   "version": "3.7.4"
  }
 },
 "nbformat": 4,
 "nbformat_minor": 2
}
