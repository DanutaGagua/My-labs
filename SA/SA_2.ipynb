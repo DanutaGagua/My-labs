{
 "cells": [
  {
   "cell_type": "code",
   "execution_count": 2,
   "metadata": {},
   "outputs": [
    {
     "data": {
      "text/html": [
       "<div>\n",
       "<style scoped>\n",
       "    .dataframe tbody tr th:only-of-type {\n",
       "        vertical-align: middle;\n",
       "    }\n",
       "\n",
       "    .dataframe tbody tr th {\n",
       "        vertical-align: top;\n",
       "    }\n",
       "\n",
       "    .dataframe thead th {\n",
       "        text-align: right;\n",
       "    }\n",
       "</style>\n",
       "<table border=\"1\" class=\"dataframe\">\n",
       "  <thead>\n",
       "    <tr style=\"text-align: right;\">\n",
       "      <th></th>\n",
       "      <th>1</th>\n",
       "      <th>2</th>\n",
       "      <th>3</th>\n",
       "      <th>4</th>\n",
       "      <th>5</th>\n",
       "      <th>6</th>\n",
       "      <th>7</th>\n",
       "      <th>8</th>\n",
       "      <th>9</th>\n",
       "      <th>10</th>\n",
       "      <th>...</th>\n",
       "      <th>141</th>\n",
       "      <th>142</th>\n",
       "      <th>143</th>\n",
       "      <th>144</th>\n",
       "      <th>145</th>\n",
       "      <th>146</th>\n",
       "      <th>147</th>\n",
       "      <th>148</th>\n",
       "      <th>149</th>\n",
       "      <th>150</th>\n",
       "    </tr>\n",
       "  </thead>\n",
       "  <tbody>\n",
       "    <tr>\n",
       "      <th>x</th>\n",
       "      <td>5.1</td>\n",
       "      <td>4.9</td>\n",
       "      <td>4.7</td>\n",
       "      <td>4.6</td>\n",
       "      <td>5.0</td>\n",
       "      <td>5.4</td>\n",
       "      <td>4.6</td>\n",
       "      <td>5.0</td>\n",
       "      <td>4.4</td>\n",
       "      <td>4.9</td>\n",
       "      <td>...</td>\n",
       "      <td>6.7</td>\n",
       "      <td>6.9</td>\n",
       "      <td>5.8</td>\n",
       "      <td>6.8</td>\n",
       "      <td>6.7</td>\n",
       "      <td>6.7</td>\n",
       "      <td>6.3</td>\n",
       "      <td>6.5</td>\n",
       "      <td>6.2</td>\n",
       "      <td>5.9</td>\n",
       "    </tr>\n",
       "    <tr>\n",
       "      <th>y</th>\n",
       "      <td>3.5</td>\n",
       "      <td>3.0</td>\n",
       "      <td>3.2</td>\n",
       "      <td>3.1</td>\n",
       "      <td>3.6</td>\n",
       "      <td>3.9</td>\n",
       "      <td>3.4</td>\n",
       "      <td>3.4</td>\n",
       "      <td>2.9</td>\n",
       "      <td>3.1</td>\n",
       "      <td>...</td>\n",
       "      <td>3.1</td>\n",
       "      <td>3.1</td>\n",
       "      <td>2.7</td>\n",
       "      <td>3.2</td>\n",
       "      <td>3.3</td>\n",
       "      <td>3.0</td>\n",
       "      <td>2.5</td>\n",
       "      <td>3.0</td>\n",
       "      <td>3.4</td>\n",
       "      <td>3.0</td>\n",
       "    </tr>\n",
       "  </tbody>\n",
       "</table>\n",
       "<p>2 rows × 150 columns</p>\n",
       "</div>"
      ],
      "text/plain": [
       "   1    2    3    4    5    6    7    8    9    10   ...  141  142  143  144  \\\n",
       "x  5.1  4.9  4.7  4.6  5.0  5.4  4.6  5.0  4.4  4.9  ...  6.7  6.9  5.8  6.8   \n",
       "y  3.5  3.0  3.2  3.1  3.6  3.9  3.4  3.4  2.9  3.1  ...  3.1  3.1  2.7  3.2   \n",
       "\n",
       "   145  146  147  148  149  150  \n",
       "x  6.7  6.7  6.3  6.5  6.2  5.9  \n",
       "y  3.3  3.0  2.5  3.0  3.4  3.0  \n",
       "\n",
       "[2 rows x 150 columns]"
      ]
     },
     "execution_count": 2,
     "metadata": {},
     "output_type": "execute_result"
    }
   ],
   "source": [
    "import pandas as pd\n",
    "\n",
    "x = []\n",
    "y = []\n",
    "\n",
    "with open(\"E:\\iris.data\") as file:\n",
    "    for line in file:\n",
    "        list = line.split(\",\") \n",
    "        x.append(list[0])\n",
    "        y.append(list[1])\n",
    "\n",
    "table = pd.DataFrame({})\n",
    "for i in range(len(x)):\n",
    "    table[i+1] = [x[i], y[i]]\n",
    "table.index = [\"x\", \"y\"]\n",
    "table.head()"
   ]
  },
  {
   "cell_type": "code",
   "execution_count": 8,
   "metadata": {},
   "outputs": [
    {
     "name": "stdout",
     "output_type": "stream",
     "text": [
      "5.843333333333334 3.0540000000000003\n",
      "0.6856935123042504 0.1880040268456377\n",
      "0.8280661279778628 0.43359431136217375\n"
     ]
    }
   ],
   "source": [
    "import numpy as np\n",
    "\n",
    "for i in range(len(x)):\n",
    "    x[i] = float(x[i])\n",
    "    y[i] = float(y[i])\n",
    "\n",
    "av_x = np.average(x)\n",
    "av_y = np.average(y)\n",
    "\n",
    "D_x = 0\n",
    "D_y = 0\n",
    "\n",
    "for i in range(len(x)):\n",
    "    D_x += (x[i] - av_x) ** 2\n",
    "    D_y += (y[i] - av_y) ** 2\n",
    "D_x /= (len(x) - 1)\n",
    "D_y /= (len(y) - 1)\n",
    "\n",
    "s_x = D_x ** 0.5\n",
    "s_y = D_y ** 0.5\n",
    "\n",
    "print(av_x, av_y)\n",
    "print(D_x, D_y)\n",
    "print(s_x, s_y)\n",
    "\n",
    "n = len(x)"
   ]
  },
  {
   "cell_type": "code",
   "execution_count": 11,
   "metadata": {},
   "outputs": [
    {
     "name": "stdout",
     "output_type": "stream",
     "text": [
      "m_x: 5.802766543596775 5.883900123069893\n",
      "m_y: 3.032758303635785 3.0752416963642157\n",
      "D_x: 0.6380281219062256 0.7333589027022751\n",
      "D_y: 0.1749350898129918 0.20107296387828358\n"
     ]
    }
   ],
   "source": [
    "print(\"m_x:\", av_x - 0.6*s_x / (n ** 0.5), av_x + 0.6*s_x / (n ** 0.5))\n",
    "print(\"m_y:\", av_y - 0.6*s_y / (n ** 0.5), av_y + 0.6*s_y / (n ** 0.5))\n",
    "print(\"D_x:\", D_x - 0.6*((2 / (n - 1)) ** 0.5) * D_x, D_x + 0.6*((2 / (n - 1)) ** 0.5) * D_x)\n",
    "print(\"D_y:\", D_y - 0.6*((2 / (n - 1)) ** 0.5) * D_y, D_y + 0.6*((2 / (n - 1)) ** 0.5) * D_y)"
   ]
  },
  {
   "cell_type": "code",
   "execution_count": 34,
   "metadata": {},
   "outputs": [],
   "source": [
    "import scipy.stats as sp\n",
    "\n",
    "import matplotlib.pyplot as plt"
   ]
  },
  {
   "cell_type": "code",
   "execution_count": 24,
   "metadata": {},
   "outputs": [
    {
     "data": {
      "text/plain": [
       "(array([ 4.,  7., 22., 24., 38., 31.,  9., 11.,  2.,  2.]),\n",
       " array([2.  , 2.24, 2.48, 2.72, 2.96, 3.2 , 3.44, 3.68, 3.92, 4.16, 4.4 ]),\n",
       " <a list of 10 Patch objects>)"
      ]
     },
     "execution_count": 24,
     "metadata": {},
     "output_type": "execute_result"
    },
    {
     "data": {
      "image/png": "[encoded data removed]",
      "text/plain": [
       "<Figure size 432x288 with 2 Axes>"
      ]
     },
     "metadata": {
      "needs_background": "light"
     },
     "output_type": "display_data"
    }
   ],
   "source": [
    "fig, axs = plt.subplots(1, 2)\n",
    "axs[0].hist(x)\n",
    "axs[1].hist(y) "
   ]
  },
  {
   "cell_type": "code",
   "execution_count": 33,
   "metadata": {},
   "outputs": [
    {
     "name": "stdout",
     "output_type": "stream",
     "text": [
      "False\n",
      "False\n"
     ]
    }
   ],
   "source": [
    "print(sp.normaltest(x)[1] <= 0.05)\n",
    "print(sp.normaltest(y)[1] <= 0.05)"
   ]
  },
  {
   "cell_type": "code",
   "execution_count": 36,
   "metadata": {},
   "outputs": [
    {
     "name": "stdout",
     "output_type": "stream",
     "text": [
      "3.6472277951112444\n",
      "False\n"
     ]
    }
   ],
   "source": [
    "if D_x >= D_y:\n",
    "    F = D_x / D_y\n",
    "else:\n",
    "    F = D_y / D_x\n",
    "print(F)    \n",
    "print(F <= 1.25)"
   ]
  },
  {
   "cell_type": "code",
   "execution_count": 16,
   "metadata": {},
   "outputs": [
    {
     "name": "stdout",
     "output_type": "stream",
     "text": [
      "36.54815769398201\n",
      "False\n"
     ]
    }
   ],
   "source": [
    "import math\n",
    "T = (av_x - av_y) / ((D_x+D_y) ** 0.5) * (n ** 0.5)\n",
    "print(T)\n",
    "print(math.fabs(T) <= 1.967956)"
   ]
  }
 ],
 "metadata": {
  "kernelspec": {
   "display_name": "Python 3",
   "language": "python",
   "name": "python3"
  },
  "language_info": {
   "codemirror_mode": {
    "name": "ipython",
    "version": 3
   },
   "file_extension": ".py",
   "mimetype": "text/x-python",
   "name": "python",
   "nbconvert_exporter": "python",
   "pygments_lexer": "ipython3",
   "version": "3.8.1"
  }
 },
 "nbformat": 4,
 "nbformat_minor": 4
}
